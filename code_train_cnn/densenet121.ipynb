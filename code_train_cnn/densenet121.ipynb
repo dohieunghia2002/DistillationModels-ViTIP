{
  "nbformat": 4,
  "nbformat_minor": 0,
  "metadata": {
    "colab": {
      "provenance": [],
      "gpuType": "T4"
    },
    "kernelspec": {
      "name": "python3",
      "display_name": "Python 3"
    },
    "language_info": {
      "name": "python"
    },
    "accelerator": "GPU"
  },
  "cells": [
    {
      "cell_type": "code",
      "source": [
        "from google.colab import drive\n",
        "drive.mount(\"/content/drive\")"
      ],
      "metadata": {
        "id": "shADrZ_kWJe0",
        "colab": {
          "base_uri": "https://localhost:8080/"
        },
        "outputId": "0568e901-68a2-40ff-a426-7922598c0561"
      },
      "execution_count": 1,
      "outputs": [
        {
          "output_type": "stream",
          "name": "stdout",
          "text": [
            "Drive already mounted at /content/drive; to attempt to forcibly remount, call drive.mount(\"/content/drive\", force_remount=True).\n"
          ]
        }
      ]
    },
    {
      "cell_type": "code",
      "execution_count": 2,
      "metadata": {
        "id": "k3GbZIAzUqPh"
      },
      "outputs": [],
      "source": [
        "import tensorflow as tf\n",
        "from tensorflow.keras.preprocessing.image import ImageDataGenerator\n",
        "from tensorflow.keras.applications import DenseNet121\n",
        "from tensorflow.keras.models import Model\n",
        "from tensorflow.keras.layers import Dense, GlobalAveragePooling2D\n",
        "from tensorflow.keras.optimizers import Adam\n",
        "from tensorflow.keras.callbacks import ModelCheckpoint, EarlyStopping"
      ]
    },
    {
      "cell_type": "code",
      "source": [
        "IMG_SIZE = (224, 224)\n",
        "BATCH_SIZE = 32\n",
        "EPOCHS = 80"
      ],
      "metadata": {
        "id": "FvFKwzZ_Uyz6"
      },
      "execution_count": 3,
      "outputs": []
    },
    {
      "cell_type": "code",
      "source": [
        "train_dir = '/content/drive/MyDrive/VIPERC/dataset/train'\n",
        "test_dir = '/content/drive/MyDrive/VIPERC/dataset/test'\n",
        "\n",
        "train_datagen = ImageDataGenerator(rescale=1./255)\n",
        "test_datagen = ImageDataGenerator(rescale=1./255)\n",
        "\n",
        "train_generator = train_datagen.flow_from_directory(\n",
        "    train_dir,\n",
        "    target_size=IMG_SIZE,\n",
        "    batch_size=BATCH_SIZE,\n",
        "    class_mode='categorical'\n",
        ")\n",
        "\n",
        "test_generator = test_datagen.flow_from_directory(\n",
        "    test_dir,\n",
        "    target_size=IMG_SIZE,\n",
        "    batch_size=BATCH_SIZE,\n",
        "    class_mode='categorical',\n",
        "    shuffle=False\n",
        ")"
      ],
      "metadata": {
        "id": "g7DqWMXJU4MM",
        "colab": {
          "base_uri": "https://localhost:8080/"
        },
        "outputId": "9901fc09-d2b9-441a-9cdb-f36e66f1cf63"
      },
      "execution_count": 4,
      "outputs": [
        {
          "output_type": "stream",
          "name": "stdout",
          "text": [
            "Found 5025 images belonging to 13 classes.\n",
            "Found 1256 images belonging to 13 classes.\n"
          ]
        }
      ]
    },
    {
      "cell_type": "code",
      "source": [
        "base_model = DenseNet121(weights='imagenet', include_top=False, input_shape=(IMG_SIZE[0], IMG_SIZE[1], 3))\n",
        "\n",
        "for layer in base_model.layers:\n",
        "    layer.trainable = False"
      ],
      "metadata": {
        "id": "C8-LD-FWU8ST",
        "colab": {
          "base_uri": "https://localhost:8080/"
        },
        "outputId": "908b4fa1-1582-4335-fa92-419bc27eb3c6"
      },
      "execution_count": 5,
      "outputs": [
        {
          "output_type": "stream",
          "name": "stdout",
          "text": [
            "Downloading data from https://storage.googleapis.com/tensorflow/keras-applications/densenet/densenet121_weights_tf_dim_ordering_tf_kernels_notop.h5\n",
            "29084464/29084464 [==============================] - 0s 0us/step\n"
          ]
        }
      ]
    },
    {
      "cell_type": "code",
      "source": [
        "x = base_model.output\n",
        "x = GlobalAveragePooling2D()(x)\n",
        "x = Dense(1024, activation='relu')(x)\n",
        "predictions = Dense(train_generator.num_classes, activation='softmax')(x)\n",
        "\n",
        "model = Model(inputs=base_model.input, outputs=predictions)"
      ],
      "metadata": {
        "id": "dToSbtzJU_w-"
      },
      "execution_count": 6,
      "outputs": []
    },
    {
      "cell_type": "code",
      "source": [
        "model.compile(optimizer=Adam(), loss='categorical_crossentropy', metrics=['accuracy'])"
      ],
      "metadata": {
        "id": "_AS9a9h-VFTU"
      },
      "execution_count": 7,
      "outputs": []
    },
    {
      "cell_type": "code",
      "source": [
        "checkpoint = ModelCheckpoint('best_model.keras', monitor='val_loss', save_best_only=True, mode='min')\n",
        "early_stopping = EarlyStopping(monitor='val_loss', patience=5, mode='min')"
      ],
      "metadata": {
        "id": "xQCN6HYCVLlx"
      },
      "execution_count": 8,
      "outputs": []
    },
    {
      "cell_type": "code",
      "source": [
        "model.fit(train_generator, epochs=EPOCHS, validation_data=test_generator, callbacks=[checkpoint, early_stopping])"
      ],
      "metadata": {
        "id": "5X7pIPN1VYCl",
        "colab": {
          "base_uri": "https://localhost:8080/"
        },
        "outputId": "db46da20-098b-4ae0-e73e-99294145cfb0"
      },
      "execution_count": 9,
      "outputs": [
        {
          "output_type": "stream",
          "name": "stdout",
          "text": [
            "Epoch 1/80\n",
            "158/158 [==============================] - 46s 218ms/step - loss: 0.3288 - accuracy: 0.9065 - val_loss: 0.0589 - val_accuracy: 0.9817\n",
            "Epoch 2/80\n",
            "158/158 [==============================] - 29s 180ms/step - loss: 0.0545 - accuracy: 0.9847 - val_loss: 0.0426 - val_accuracy: 0.9889\n",
            "Epoch 3/80\n",
            "158/158 [==============================] - 27s 169ms/step - loss: 0.0213 - accuracy: 0.9952 - val_loss: 0.0525 - val_accuracy: 0.9833\n",
            "Epoch 4/80\n",
            "158/158 [==============================] - 27s 171ms/step - loss: 0.0111 - accuracy: 0.9972 - val_loss: 0.0442 - val_accuracy: 0.9881\n",
            "Epoch 5/80\n",
            "158/158 [==============================] - 28s 179ms/step - loss: 0.0222 - accuracy: 0.9932 - val_loss: 0.0234 - val_accuracy: 0.9928\n",
            "Epoch 6/80\n",
            "158/158 [==============================] - 28s 177ms/step - loss: 0.0077 - accuracy: 0.9976 - val_loss: 0.0220 - val_accuracy: 0.9936\n",
            "Epoch 7/80\n",
            "158/158 [==============================] - 27s 173ms/step - loss: 0.0068 - accuracy: 0.9980 - val_loss: 0.0356 - val_accuracy: 0.9865\n",
            "Epoch 8/80\n",
            "158/158 [==============================] - 27s 169ms/step - loss: 0.0078 - accuracy: 0.9978 - val_loss: 0.0350 - val_accuracy: 0.9904\n",
            "Epoch 9/80\n",
            "158/158 [==============================] - 27s 170ms/step - loss: 0.0051 - accuracy: 0.9986 - val_loss: 0.0270 - val_accuracy: 0.9920\n",
            "Epoch 10/80\n",
            "158/158 [==============================] - 303s 2s/step - loss: 0.0093 - accuracy: 0.9974 - val_loss: 0.0409 - val_accuracy: 0.9873\n",
            "Epoch 11/80\n",
            "158/158 [==============================] - 29s 181ms/step - loss: 0.0079 - accuracy: 0.9984 - val_loss: 0.0336 - val_accuracy: 0.9889\n"
          ]
        },
        {
          "output_type": "execute_result",
          "data": {
            "text/plain": [
              "<keras.src.callbacks.History at 0x7b03c04638e0>"
            ]
          },
          "metadata": {},
          "execution_count": 9
        }
      ]
    },
    {
      "cell_type": "code",
      "source": [
        "!mv /content/best_model.keras /content/drive/MyDrive/VIPERC/"
      ],
      "metadata": {
        "id": "ciel98T6Wm3W"
      },
      "execution_count": 10,
      "outputs": []
    },
    {
      "cell_type": "code",
      "source": [
        "from tensorflow.keras.models import load_model\n",
        "\n",
        "best_model = load_model('/content/drive/MyDrive/VIPERC/best_model.keras')"
      ],
      "metadata": {
        "id": "PnARkl93K11I"
      },
      "execution_count": 11,
      "outputs": []
    },
    {
      "cell_type": "code",
      "source": [
        "import numpy as np\n",
        "from sklearn.metrics import confusion_matrix, classification_report, accuracy_score, precision_score, recall_score, f1_score\n",
        "\n",
        "test_loss, test_accuracy = best_model.evaluate(test_generator)\n",
        "print(f'\\nTest Loss: {test_loss:.4f}')\n",
        "print(f'Test Accuracy: {test_accuracy * 100:.2f}%')\n",
        "\n",
        "class_labels = list(test_generator.class_indices.keys())\n",
        "predictions = best_model.predict(test_generator)\n",
        "predicted_classes = np.argmax(predictions, axis=1)\n",
        "\n",
        "# Lấy nhãn thực tế từ generator\n",
        "true_classes = test_generator.classes\n",
        "\n",
        "# Tính các chỉ số đánh giá\n",
        "accuracy = accuracy_score(true_classes, predicted_classes)\n",
        "precision = precision_score(true_classes, predicted_classes, average='weighted')\n",
        "recall = recall_score(true_classes, predicted_classes, average='weighted')\n",
        "f1 = f1_score(true_classes, predicted_classes, average='weighted')\n",
        "\n",
        "# In ra kết quả\n",
        "print('Accuracy:', accuracy * 100)\n",
        "print('Precision:', precision * 100)\n",
        "print('Recall:', recall * 100)\n",
        "print('F1 Score:', f1* 100)\n",
        "\n",
        "# In báo cáo chi tiết\n",
        "print('\\nClassification Report:')\n",
        "print(classification_report(true_classes, predicted_classes, target_names=class_labels, digits=4))\n",
        "\n",
        "# Tính accuracy cho từng nhãn\n",
        "conf_matrix = confusion_matrix(true_classes, predicted_classes)\n",
        "class_accuracies = conf_matrix.diagonal() / conf_matrix.sum(axis=1)\n",
        "\n",
        "print('\\nAccuracy for each class:')\n",
        "for class_name, class_accuracy in zip(class_labels, class_accuracies):\n",
        "    print(f'{class_name}: {class_accuracy:.2f}')"
      ],
      "metadata": {
        "colab": {
          "base_uri": "https://localhost:8080/"
        },
        "id": "6RC2db3Dvuso",
        "outputId": "ae3950b2-b6cc-4197-b3ad-fd9b49c9750f"
      },
      "execution_count": 13,
      "outputs": [
        {
          "output_type": "stream",
          "name": "stdout",
          "text": [
            "40/40 [==============================] - 5s 126ms/step - loss: 0.0220 - accuracy: 0.9936\n",
            "\n",
            "Test Loss: 0.0220\n",
            "Test Accuracy: 99.36%\n",
            "40/40 [==============================] - 6s 145ms/step\n",
            "Accuracy: 99.36305732484077\n",
            "Precision: 99.36823397263723\n",
            "Recall: 99.36305732484077\n",
            "F1 Score: 99.36162828388979\n",
            "\n",
            "Classification Report:\n",
            "              precision    recall  f1-score   support\n",
            "\n",
            " cong_chieng     1.0000    1.0000    1.0000        60\n",
            "     dan_bau     1.0000    1.0000    1.0000        79\n",
            "      dan_co     1.0000    1.0000    1.0000        47\n",
            "      dan_da     0.9918    0.9837    0.9878       123\n",
            "     dan_day     1.0000    1.0000    1.0000        92\n",
            "  dan_nguyet     0.9919    0.9760    0.9839       125\n",
            "     dan_sen     0.9850    1.0000    0.9924       131\n",
            "  dan_t_rung     1.0000    1.0000    1.0000       171\n",
            "    dan_tinh     1.0000    1.0000    1.0000       124\n",
            "   dan_tranh     0.9819    0.9939    0.9879       164\n",
            "   dan_ty_ba     1.0000    0.9583    0.9787        48\n",
            "        khen     1.0000    1.0000    1.0000        50\n",
            "  trong_quan     0.9767    1.0000    0.9882        42\n",
            "\n",
            "    accuracy                         0.9936      1256\n",
            "   macro avg     0.9944    0.9932    0.9938      1256\n",
            "weighted avg     0.9937    0.9936    0.9936      1256\n",
            "\n",
            "\n",
            "Accuracy for each class:\n",
            "cong_chieng: 1.00\n",
            "dan_bau: 1.00\n",
            "dan_co: 1.00\n",
            "dan_da: 0.98\n",
            "dan_day: 1.00\n",
            "dan_nguyet: 0.98\n",
            "dan_sen: 1.00\n",
            "dan_t_rung: 1.00\n",
            "dan_tinh: 1.00\n",
            "dan_tranh: 0.99\n",
            "dan_ty_ba: 0.96\n",
            "khen: 1.00\n",
            "trong_quan: 1.00\n"
          ]
        }
      ]
    }
  ]
}