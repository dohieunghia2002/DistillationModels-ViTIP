{
  "nbformat": 4,
  "nbformat_minor": 0,
  "metadata": {
    "colab": {
      "provenance": [],
      "gpuType": "T4"
    },
    "kernelspec": {
      "name": "python3",
      "display_name": "Python 3"
    },
    "language_info": {
      "name": "python"
    },
    "accelerator": "GPU"
  },
  "cells": [
    {
      "cell_type": "code",
      "source": [
        "from google.colab import drive\n",
        "drive.mount(\"/content/drive\")"
      ],
      "metadata": {
        "id": "shADrZ_kWJe0",
        "colab": {
          "base_uri": "https://localhost:8080/"
        },
        "outputId": "b7580668-c4b3-46df-8d27-b7803f66fc42"
      },
      "execution_count": 1,
      "outputs": [
        {
          "output_type": "stream",
          "name": "stdout",
          "text": [
            "Drive already mounted at /content/drive; to attempt to forcibly remount, call drive.mount(\"/content/drive\", force_remount=True).\n"
          ]
        }
      ]
    },
    {
      "cell_type": "code",
      "execution_count": 2,
      "metadata": {
        "id": "k3GbZIAzUqPh"
      },
      "outputs": [],
      "source": [
        "import tensorflow as tf\n",
        "from tensorflow.keras.preprocessing.image import ImageDataGenerator\n",
        "from tensorflow.keras.applications import MobileNetV2\n",
        "from tensorflow.keras.models import Model\n",
        "from tensorflow.keras.layers import Dense, GlobalAveragePooling2D\n",
        "from tensorflow.keras.optimizers import Adam\n",
        "from tensorflow.keras.callbacks import ModelCheckpoint, EarlyStopping"
      ]
    },
    {
      "cell_type": "code",
      "source": [
        "IMG_SIZE = (224, 224)\n",
        "BATCH_SIZE = 32\n",
        "EPOCHS = 80"
      ],
      "metadata": {
        "id": "FvFKwzZ_Uyz6"
      },
      "execution_count": 3,
      "outputs": []
    },
    {
      "cell_type": "code",
      "source": [
        "train_dir = '/content/drive/MyDrive/VIPERC/dataset/train'\n",
        "test_dir = '/content/drive/MyDrive/VIPERC/dataset/test'\n",
        "\n",
        "train_datagen = ImageDataGenerator(rescale=1./255)\n",
        "test_datagen = ImageDataGenerator(rescale=1./255)\n",
        "\n",
        "train_generator = train_datagen.flow_from_directory(\n",
        "    train_dir,\n",
        "    target_size=IMG_SIZE,\n",
        "    batch_size=BATCH_SIZE,\n",
        "    class_mode='categorical'\n",
        ")\n",
        "\n",
        "test_generator = test_datagen.flow_from_directory(\n",
        "    test_dir,\n",
        "    target_size=IMG_SIZE,\n",
        "    batch_size=BATCH_SIZE,\n",
        "    class_mode='categorical',\n",
        "    shuffle=False\n",
        ")"
      ],
      "metadata": {
        "id": "g7DqWMXJU4MM",
        "colab": {
          "base_uri": "https://localhost:8080/"
        },
        "outputId": "dc147ede-8392-422a-b505-9574f0d39778"
      },
      "execution_count": 4,
      "outputs": [
        {
          "output_type": "stream",
          "name": "stdout",
          "text": [
            "Found 5025 images belonging to 13 classes.\n",
            "Found 1256 images belonging to 13 classes.\n"
          ]
        }
      ]
    },
    {
      "cell_type": "code",
      "source": [
        "base_model = MobileNetV2(weights='imagenet', include_top=False, input_shape=(IMG_SIZE[0], IMG_SIZE[1], 3))\n",
        "\n",
        "for layer in base_model.layers:\n",
        "    layer.trainable = False"
      ],
      "metadata": {
        "id": "C8-LD-FWU8ST",
        "colab": {
          "base_uri": "https://localhost:8080/"
        },
        "outputId": "1eab0534-808b-4116-c193-885511f07247"
      },
      "execution_count": 5,
      "outputs": [
        {
          "output_type": "stream",
          "name": "stdout",
          "text": [
            "Downloading data from https://storage.googleapis.com/tensorflow/keras-applications/mobilenet_v2/mobilenet_v2_weights_tf_dim_ordering_tf_kernels_1.0_224_no_top.h5\n",
            "9406464/9406464 [==============================] - 0s 0us/step\n"
          ]
        }
      ]
    },
    {
      "cell_type": "code",
      "source": [
        "x = base_model.output\n",
        "x = GlobalAveragePooling2D()(x)\n",
        "x = Dense(1024, activation='relu')(x)\n",
        "predictions = Dense(train_generator.num_classes, activation='softmax')(x)\n",
        "\n",
        "model = Model(inputs=base_model.input, outputs=predictions)"
      ],
      "metadata": {
        "id": "dToSbtzJU_w-"
      },
      "execution_count": 6,
      "outputs": []
    },
    {
      "cell_type": "code",
      "source": [
        "model.compile(optimizer=Adam(), loss='categorical_crossentropy', metrics=['accuracy'])"
      ],
      "metadata": {
        "id": "_AS9a9h-VFTU"
      },
      "execution_count": 7,
      "outputs": []
    },
    {
      "cell_type": "code",
      "source": [
        "checkpoint = ModelCheckpoint('best_model.keras', monitor='val_loss', save_best_only=True, mode='min')\n",
        "early_stopping = EarlyStopping(monitor='val_loss', patience=5, mode='min')"
      ],
      "metadata": {
        "id": "xQCN6HYCVLlx"
      },
      "execution_count": 8,
      "outputs": []
    },
    {
      "cell_type": "code",
      "source": [
        "model.fit(train_generator, epochs=EPOCHS, validation_data=test_generator, callbacks=[checkpoint, early_stopping])"
      ],
      "metadata": {
        "id": "5X7pIPN1VYCl",
        "colab": {
          "base_uri": "https://localhost:8080/"
        },
        "outputId": "5f29a935-c8a2-4fa7-ed69-f5fa8a52954c"
      },
      "execution_count": 9,
      "outputs": [
        {
          "output_type": "stream",
          "name": "stdout",
          "text": [
            "Epoch 1/80\n",
            "158/158 [==============================] - 34s 180ms/step - loss: 0.3908 - accuracy: 0.8929 - val_loss: 0.1095 - val_accuracy: 0.9666\n",
            "Epoch 2/80\n",
            "158/158 [==============================] - 26s 163ms/step - loss: 0.0831 - accuracy: 0.9753 - val_loss: 0.0759 - val_accuracy: 0.9769\n",
            "Epoch 3/80\n",
            "158/158 [==============================] - 25s 161ms/step - loss: 0.0255 - accuracy: 0.9928 - val_loss: 0.1157 - val_accuracy: 0.9642\n",
            "Epoch 4/80\n",
            "158/158 [==============================] - 26s 164ms/step - loss: 0.0150 - accuracy: 0.9950 - val_loss: 0.0691 - val_accuracy: 0.9801\n",
            "Epoch 5/80\n",
            "158/158 [==============================] - 26s 164ms/step - loss: 0.0164 - accuracy: 0.9950 - val_loss: 0.0552 - val_accuracy: 0.9857\n",
            "Epoch 6/80\n",
            "158/158 [==============================] - 25s 161ms/step - loss: 0.0065 - accuracy: 0.9984 - val_loss: 0.1108 - val_accuracy: 0.9713\n",
            "Epoch 7/80\n",
            "158/158 [==============================] - 26s 165ms/step - loss: 0.0044 - accuracy: 0.9986 - val_loss: 0.0541 - val_accuracy: 0.9849\n",
            "Epoch 8/80\n",
            "158/158 [==============================] - 25s 161ms/step - loss: 0.0022 - accuracy: 0.9998 - val_loss: 0.0653 - val_accuracy: 0.9857\n",
            "Epoch 9/80\n",
            "158/158 [==============================] - 26s 163ms/step - loss: 0.0049 - accuracy: 0.9988 - val_loss: 0.0615 - val_accuracy: 0.9849\n",
            "Epoch 10/80\n",
            "158/158 [==============================] - 25s 160ms/step - loss: 0.0491 - accuracy: 0.9843 - val_loss: 0.1357 - val_accuracy: 0.9618\n",
            "Epoch 11/80\n",
            "158/158 [==============================] - 26s 163ms/step - loss: 0.0884 - accuracy: 0.9725 - val_loss: 0.1248 - val_accuracy: 0.9626\n",
            "Epoch 12/80\n",
            "158/158 [==============================] - 26s 163ms/step - loss: 0.0396 - accuracy: 0.9873 - val_loss: 0.0786 - val_accuracy: 0.9825\n"
          ]
        },
        {
          "output_type": "execute_result",
          "data": {
            "text/plain": [
              "<keras.src.callbacks.History at 0x7bf900581390>"
            ]
          },
          "metadata": {},
          "execution_count": 9
        }
      ]
    },
    {
      "cell_type": "code",
      "source": [
        "!mv /content/best_model.keras /content/drive/MyDrive/VIPERC/"
      ],
      "metadata": {
        "id": "ciel98T6Wm3W"
      },
      "execution_count": 10,
      "outputs": []
    },
    {
      "cell_type": "code",
      "source": [
        "from tensorflow.keras.models import load_model\n",
        "\n",
        "best_model = load_model('/content/drive/MyDrive/VIPERC/best_model.keras')"
      ],
      "metadata": {
        "id": "PnARkl93K11I"
      },
      "execution_count": 11,
      "outputs": []
    },
    {
      "cell_type": "code",
      "source": [
        "import numpy as np\n",
        "from sklearn.metrics import confusion_matrix, classification_report, accuracy_score, precision_score, recall_score, f1_score\n",
        "\n",
        "test_loss, test_accuracy = best_model.evaluate(test_generator)\n",
        "print(f'\\nTest Loss: {test_loss:.4f}')\n",
        "print(f'Test Accuracy: {test_accuracy * 100:.2f}%')\n",
        "\n",
        "class_labels = list(test_generator.class_indices.keys())\n",
        "predictions = best_model.predict(test_generator)\n",
        "predicted_classes = np.argmax(predictions, axis=1)\n",
        "\n",
        "# Lấy nhãn thực tế từ generator\n",
        "true_classes = test_generator.classes\n",
        "\n",
        "# Tính các chỉ số đánh giá\n",
        "accuracy = accuracy_score(true_classes, predicted_classes)\n",
        "precision = precision_score(true_classes, predicted_classes, average='weighted')\n",
        "recall = recall_score(true_classes, predicted_classes, average='weighted')\n",
        "f1 = f1_score(true_classes, predicted_classes, average='weighted')\n",
        "\n",
        "# In ra kết quả\n",
        "print('Accuracy:', accuracy * 100)\n",
        "print('Precision:', precision * 100)\n",
        "print('Recall:', recall * 100)\n",
        "print('F1 Score:', f1* 100)\n",
        "\n",
        "# In báo cáo chi tiết\n",
        "print('\\nClassification Report:')\n",
        "print(classification_report(true_classes, predicted_classes, target_names=class_labels, digits=4))\n",
        "\n",
        "# Tính accuracy cho từng nhãn\n",
        "conf_matrix = confusion_matrix(true_classes, predicted_classes)\n",
        "class_accuracies = conf_matrix.diagonal() / conf_matrix.sum(axis=1)\n",
        "\n",
        "print('\\nAccuracy for each class:')\n",
        "for class_name, class_accuracy in zip(class_labels, class_accuracies):\n",
        "    print(f'{class_name}: {class_accuracy:.2f}')"
      ],
      "metadata": {
        "colab": {
          "base_uri": "https://localhost:8080/"
        },
        "id": "6RC2db3Dvuso",
        "outputId": "bac37cd0-8704-4e3c-a114-4ea618df727a"
      },
      "execution_count": 12,
      "outputs": [
        {
          "output_type": "stream",
          "name": "stdout",
          "text": [
            "40/40 [==============================] - 6s 118ms/step - loss: 0.0541 - accuracy: 0.9849\n",
            "\n",
            "Test Loss: 0.0541\n",
            "Test Accuracy: 98.49%\n",
            "40/40 [==============================] - 6s 134ms/step\n",
            "Accuracy: 98.48726114649682\n",
            "Precision: 98.50157398991955\n",
            "Recall: 98.48726114649682\n",
            "F1 Score: 98.48731960173332\n",
            "\n",
            "Classification Report:\n",
            "              precision    recall  f1-score   support\n",
            "\n",
            " cong_chieng     1.0000    1.0000    1.0000        60\n",
            "     dan_bau     0.9753    1.0000    0.9875        79\n",
            "      dan_co     0.9778    0.9362    0.9565        47\n",
            "      dan_da     1.0000    0.9756    0.9877       123\n",
            "     dan_day     0.9787    1.0000    0.9892        92\n",
            "  dan_nguyet     0.9528    0.9680    0.9603       125\n",
            "     dan_sen     0.9695    0.9695    0.9695       131\n",
            "  dan_t_rung     1.0000    0.9942    0.9971       171\n",
            "    dan_tinh     1.0000    1.0000    1.0000       124\n",
            "   dan_tranh     0.9818    0.9878    0.9848       164\n",
            "   dan_ty_ba     1.0000    0.9792    0.9895        48\n",
            "        khen     0.9804    1.0000    0.9901        50\n",
            "  trong_quan     1.0000    0.9762    0.9880        42\n",
            "\n",
            "    accuracy                         0.9849      1256\n",
            "   macro avg     0.9859    0.9836    0.9846      1256\n",
            "weighted avg     0.9850    0.9849    0.9849      1256\n",
            "\n",
            "\n",
            "Accuracy for each class:\n",
            "cong_chieng: 1.00\n",
            "dan_bau: 1.00\n",
            "dan_co: 0.94\n",
            "dan_da: 0.98\n",
            "dan_day: 1.00\n",
            "dan_nguyet: 0.97\n",
            "dan_sen: 0.97\n",
            "dan_t_rung: 0.99\n",
            "dan_tinh: 1.00\n",
            "dan_tranh: 0.99\n",
            "dan_ty_ba: 0.98\n",
            "khen: 1.00\n",
            "trong_quan: 0.98\n"
          ]
        }
      ]
    }
  ]
}