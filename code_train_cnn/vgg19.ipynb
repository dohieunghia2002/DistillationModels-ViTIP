{
  "nbformat": 4,
  "nbformat_minor": 0,
  "metadata": {
    "colab": {
      "provenance": [],
      "gpuType": "T4"
    },
    "kernelspec": {
      "name": "python3",
      "display_name": "Python 3"
    },
    "language_info": {
      "name": "python"
    },
    "accelerator": "GPU"
  },
  "cells": [
    {
      "cell_type": "code",
      "source": [
        "from google.colab import drive\n",
        "drive.mount(\"/content/drive\")"
      ],
      "metadata": {
        "id": "shADrZ_kWJe0",
        "colab": {
          "base_uri": "https://localhost:8080/"
        },
        "outputId": "174d8feb-da1a-4665-a9ca-b5790418eaa4"
      },
      "execution_count": 1,
      "outputs": [
        {
          "output_type": "stream",
          "name": "stdout",
          "text": [
            "Drive already mounted at /content/drive; to attempt to forcibly remount, call drive.mount(\"/content/drive\", force_remount=True).\n"
          ]
        }
      ]
    },
    {
      "cell_type": "code",
      "execution_count": 2,
      "metadata": {
        "id": "k3GbZIAzUqPh"
      },
      "outputs": [],
      "source": [
        "import tensorflow as tf\n",
        "from tensorflow.keras.preprocessing.image import ImageDataGenerator\n",
        "from tensorflow.keras.applications import VGG19\n",
        "from tensorflow.keras.models import Model\n",
        "from tensorflow.keras.layers import Dense, GlobalAveragePooling2D\n",
        "from tensorflow.keras.optimizers import Adam\n",
        "from tensorflow.keras.callbacks import ModelCheckpoint, EarlyStopping"
      ]
    },
    {
      "cell_type": "code",
      "source": [
        "IMG_SIZE = (224, 224)\n",
        "BATCH_SIZE = 32\n",
        "EPOCHS = 80"
      ],
      "metadata": {
        "id": "FvFKwzZ_Uyz6"
      },
      "execution_count": 3,
      "outputs": []
    },
    {
      "cell_type": "code",
      "source": [
        "train_dir = '/content/drive/MyDrive/VIPERC/dataset/train'\n",
        "test_dir = '/content/drive/MyDrive/VIPERC/dataset/test'\n",
        "\n",
        "train_datagen = ImageDataGenerator(rescale=1./255)\n",
        "test_datagen = ImageDataGenerator(rescale=1./255)\n",
        "\n",
        "train_generator = train_datagen.flow_from_directory(\n",
        "    train_dir,\n",
        "    target_size=IMG_SIZE,\n",
        "    batch_size=BATCH_SIZE,\n",
        "    class_mode='categorical'\n",
        ")\n",
        "\n",
        "test_generator = test_datagen.flow_from_directory(\n",
        "    test_dir,\n",
        "    target_size=IMG_SIZE,\n",
        "    batch_size=BATCH_SIZE,\n",
        "    class_mode='categorical',\n",
        "    shuffle=False\n",
        ")"
      ],
      "metadata": {
        "id": "g7DqWMXJU4MM",
        "colab": {
          "base_uri": "https://localhost:8080/"
        },
        "outputId": "85589246-4ee0-4732-94b2-adf2f92119bd"
      },
      "execution_count": 4,
      "outputs": [
        {
          "output_type": "stream",
          "name": "stdout",
          "text": [
            "Found 5025 images belonging to 13 classes.\n",
            "Found 1256 images belonging to 13 classes.\n"
          ]
        }
      ]
    },
    {
      "cell_type": "code",
      "source": [
        "base_model = VGG19(weights='imagenet', include_top=False, input_shape=(IMG_SIZE[0], IMG_SIZE[1], 3))\n",
        "\n",
        "for layer in base_model.layers:\n",
        "    layer.trainable = False"
      ],
      "metadata": {
        "id": "C8-LD-FWU8ST",
        "colab": {
          "base_uri": "https://localhost:8080/"
        },
        "outputId": "ec349602-017a-450c-f28d-3fc2545764b9"
      },
      "execution_count": 5,
      "outputs": [
        {
          "output_type": "stream",
          "name": "stdout",
          "text": [
            "Downloading data from https://storage.googleapis.com/tensorflow/keras-applications/vgg19/vgg19_weights_tf_dim_ordering_tf_kernels_notop.h5\n",
            "80134624/80134624 [==============================] - 0s 0us/step\n"
          ]
        }
      ]
    },
    {
      "cell_type": "code",
      "source": [
        "x = base_model.output\n",
        "x = GlobalAveragePooling2D()(x)\n",
        "x = Dense(1024, activation='relu')(x)\n",
        "predictions = Dense(train_generator.num_classes, activation='softmax')(x)\n",
        "\n",
        "model = Model(inputs=base_model.input, outputs=predictions)"
      ],
      "metadata": {
        "id": "dToSbtzJU_w-"
      },
      "execution_count": 6,
      "outputs": []
    },
    {
      "cell_type": "code",
      "source": [
        "model.compile(optimizer=Adam(), loss='categorical_crossentropy', metrics=['accuracy'])"
      ],
      "metadata": {
        "id": "_AS9a9h-VFTU"
      },
      "execution_count": 7,
      "outputs": []
    },
    {
      "cell_type": "code",
      "source": [
        "checkpoint = ModelCheckpoint('best_model.keras', monitor='val_loss', save_best_only=True, mode='min')\n",
        "early_stopping = EarlyStopping(monitor='val_loss', patience=5, mode='min')"
      ],
      "metadata": {
        "id": "xQCN6HYCVLlx"
      },
      "execution_count": 8,
      "outputs": []
    },
    {
      "cell_type": "code",
      "source": [
        "model.fit(train_generator, epochs=EPOCHS, validation_data=test_generator, callbacks=[checkpoint, early_stopping])"
      ],
      "metadata": {
        "id": "5X7pIPN1VYCl",
        "colab": {
          "base_uri": "https://localhost:8080/"
        },
        "outputId": "ab6bccb6-56b9-448e-ae11-388e7f45851c"
      },
      "execution_count": 9,
      "outputs": [
        {
          "output_type": "stream",
          "name": "stdout",
          "text": [
            "Epoch 1/80\n",
            "158/158 [==============================] - 43s 221ms/step - loss: 1.1203 - accuracy: 0.6828 - val_loss: 0.5551 - val_accuracy: 0.8527\n",
            "Epoch 2/80\n",
            "158/158 [==============================] - 36s 227ms/step - loss: 0.4489 - accuracy: 0.8810 - val_loss: 0.3334 - val_accuracy: 0.9172\n",
            "Epoch 3/80\n",
            "158/158 [==============================] - 31s 196ms/step - loss: 0.2585 - accuracy: 0.9389 - val_loss: 0.2421 - val_accuracy: 0.9411\n",
            "Epoch 4/80\n",
            "158/158 [==============================] - 32s 204ms/step - loss: 0.1982 - accuracy: 0.9524 - val_loss: 0.1764 - val_accuracy: 0.9618\n",
            "Epoch 5/80\n",
            "158/158 [==============================] - 32s 201ms/step - loss: 0.1470 - accuracy: 0.9662 - val_loss: 0.1689 - val_accuracy: 0.9594\n",
            "Epoch 6/80\n",
            "158/158 [==============================] - 31s 198ms/step - loss: 0.1258 - accuracy: 0.9701 - val_loss: 0.1712 - val_accuracy: 0.9419\n",
            "Epoch 7/80\n",
            "158/158 [==============================] - 36s 225ms/step - loss: 0.1031 - accuracy: 0.9769 - val_loss: 0.1300 - val_accuracy: 0.9650\n",
            "Epoch 8/80\n",
            "158/158 [==============================] - 32s 202ms/step - loss: 0.0867 - accuracy: 0.9791 - val_loss: 0.1140 - val_accuracy: 0.9650\n",
            "Epoch 9/80\n",
            "158/158 [==============================] - 32s 198ms/step - loss: 0.0938 - accuracy: 0.9737 - val_loss: 0.1175 - val_accuracy: 0.9626\n",
            "Epoch 10/80\n",
            "158/158 [==============================] - 32s 200ms/step - loss: 0.0659 - accuracy: 0.9843 - val_loss: 0.0909 - val_accuracy: 0.9801\n",
            "Epoch 11/80\n",
            "158/158 [==============================] - 32s 202ms/step - loss: 0.0572 - accuracy: 0.9869 - val_loss: 0.0802 - val_accuracy: 0.9785\n",
            "Epoch 12/80\n",
            "158/158 [==============================] - 31s 198ms/step - loss: 0.0531 - accuracy: 0.9885 - val_loss: 0.0995 - val_accuracy: 0.9729\n",
            "Epoch 13/80\n",
            "158/158 [==============================] - 35s 222ms/step - loss: 0.0486 - accuracy: 0.9869 - val_loss: 0.1143 - val_accuracy: 0.9626\n",
            "Epoch 14/80\n",
            "158/158 [==============================] - 32s 201ms/step - loss: 0.0472 - accuracy: 0.9865 - val_loss: 0.0793 - val_accuracy: 0.9753\n",
            "Epoch 15/80\n",
            "158/158 [==============================] - 31s 195ms/step - loss: 0.0387 - accuracy: 0.9895 - val_loss: 0.1050 - val_accuracy: 0.9594\n",
            "Epoch 16/80\n",
            "158/158 [==============================] - 36s 228ms/step - loss: 0.0370 - accuracy: 0.9910 - val_loss: 0.0698 - val_accuracy: 0.9809\n",
            "Epoch 17/80\n",
            "158/158 [==============================] - 32s 198ms/step - loss: 0.0284 - accuracy: 0.9932 - val_loss: 0.0866 - val_accuracy: 0.9761\n",
            "Epoch 18/80\n",
            "158/158 [==============================] - 35s 223ms/step - loss: 0.0271 - accuracy: 0.9940 - val_loss: 0.0921 - val_accuracy: 0.9697\n",
            "Epoch 19/80\n",
            "158/158 [==============================] - 31s 195ms/step - loss: 0.0199 - accuracy: 0.9954 - val_loss: 0.1175 - val_accuracy: 0.9570\n",
            "Epoch 20/80\n",
            "158/158 [==============================] - 31s 197ms/step - loss: 0.0291 - accuracy: 0.9924 - val_loss: 0.0988 - val_accuracy: 0.9658\n",
            "Epoch 21/80\n",
            "158/158 [==============================] - 35s 221ms/step - loss: 0.0193 - accuracy: 0.9954 - val_loss: 0.0890 - val_accuracy: 0.9761\n"
          ]
        },
        {
          "output_type": "execute_result",
          "data": {
            "text/plain": [
              "<keras.src.callbacks.History at 0x7d418474f430>"
            ]
          },
          "metadata": {},
          "execution_count": 9
        }
      ]
    },
    {
      "cell_type": "code",
      "source": [
        "!mv /content/best_model.keras /content/drive/MyDrive/VIPERC/"
      ],
      "metadata": {
        "id": "ciel98T6Wm3W"
      },
      "execution_count": 10,
      "outputs": []
    },
    {
      "cell_type": "code",
      "source": [
        "from tensorflow.keras.models import load_model\n",
        "\n",
        "best_model = load_model('/content/drive/MyDrive/VIPERC/best_model.keras')"
      ],
      "metadata": {
        "id": "PnARkl93K11I"
      },
      "execution_count": 11,
      "outputs": []
    },
    {
      "cell_type": "code",
      "source": [
        "import numpy as np\n",
        "from sklearn.metrics import confusion_matrix, classification_report, accuracy_score, precision_score, recall_score, f1_score\n",
        "\n",
        "test_loss, test_accuracy = best_model.evaluate(test_generator)\n",
        "print(f'\\nTest Loss: {test_loss:.4f}')\n",
        "print(f'Test Accuracy: {test_accuracy * 100:.2f}%')\n",
        "\n",
        "class_labels = list(test_generator.class_indices.keys())\n",
        "predictions = best_model.predict(test_generator)\n",
        "predicted_classes = np.argmax(predictions, axis=1)\n",
        "\n",
        "# Lấy nhãn thực tế từ generator\n",
        "true_classes = test_generator.classes\n",
        "\n",
        "# Tính các chỉ số đánh giá\n",
        "accuracy = accuracy_score(true_classes, predicted_classes)\n",
        "precision = precision_score(true_classes, predicted_classes, average='weighted')\n",
        "recall = recall_score(true_classes, predicted_classes, average='weighted')\n",
        "f1 = f1_score(true_classes, predicted_classes, average='weighted')\n",
        "\n",
        "# In ra kết quả\n",
        "print('Accuracy:', accuracy * 100)\n",
        "print('Precision:', precision * 100)\n",
        "print('Recall:', recall * 100)\n",
        "print('F1 Score:', f1* 100)\n",
        "\n",
        "# In báo cáo chi tiết\n",
        "print('\\nClassification Report:')\n",
        "print(classification_report(true_classes, predicted_classes, target_names=class_labels, digits=4))\n",
        "\n",
        "# Tính accuracy cho từng nhãn\n",
        "conf_matrix = confusion_matrix(true_classes, predicted_classes)\n",
        "class_accuracies = conf_matrix.diagonal() / conf_matrix.sum(axis=1)\n",
        "\n",
        "print('\\nAccuracy for each class:')\n",
        "for class_name, class_accuracy in zip(class_labels, class_accuracies):\n",
        "    print(f'{class_name}: {class_accuracy:.2f}')"
      ],
      "metadata": {
        "colab": {
          "base_uri": "https://localhost:8080/"
        },
        "id": "6RC2db3Dvuso",
        "outputId": "e9141a35-324d-4a3b-f36f-0b0269eea15a"
      },
      "execution_count": 12,
      "outputs": [
        {
          "output_type": "stream",
          "name": "stdout",
          "text": [
            "40/40 [==============================] - 6s 148ms/step - loss: 0.0698 - accuracy: 0.9809\n",
            "\n",
            "Test Loss: 0.0698\n",
            "Test Accuracy: 98.09%\n",
            "40/40 [==============================] - 7s 162ms/step\n",
            "Accuracy: 98.08917197452229\n",
            "Precision: 98.13150290565125\n",
            "Recall: 98.08917197452229\n",
            "F1 Score: 98.08372353601621\n",
            "\n",
            "Classification Report:\n",
            "              precision    recall  f1-score   support\n",
            "\n",
            " cong_chieng     1.0000    0.9833    0.9916        60\n",
            "     dan_bau     1.0000    1.0000    1.0000        79\n",
            "      dan_co     1.0000    0.9574    0.9783        47\n",
            "      dan_da     0.9917    0.9675    0.9794       123\n",
            "     dan_day     0.9684    1.0000    0.9840        92\n",
            "  dan_nguyet     0.9685    0.9840    0.9762       125\n",
            "     dan_sen     0.9923    0.9847    0.9885       131\n",
            "  dan_t_rung     0.9826    0.9883    0.9854       171\n",
            "    dan_tinh     0.9919    0.9839    0.9879       124\n",
            "   dan_tranh     0.9477    0.9939    0.9702       164\n",
            "   dan_ty_ba     0.9787    0.9583    0.9684        48\n",
            "        khen     0.9800    0.9800    0.9800        50\n",
            "  trong_quan     1.0000    0.8810    0.9367        42\n",
            "\n",
            "    accuracy                         0.9809      1256\n",
            "   macro avg     0.9847    0.9740    0.9790      1256\n",
            "weighted avg     0.9813    0.9809    0.9808      1256\n",
            "\n",
            "\n",
            "Accuracy for each class:\n",
            "cong_chieng: 0.98\n",
            "dan_bau: 1.00\n",
            "dan_co: 0.96\n",
            "dan_da: 0.97\n",
            "dan_day: 1.00\n",
            "dan_nguyet: 0.98\n",
            "dan_sen: 0.98\n",
            "dan_t_rung: 0.99\n",
            "dan_tinh: 0.98\n",
            "dan_tranh: 0.99\n",
            "dan_ty_ba: 0.96\n",
            "khen: 0.98\n",
            "trong_quan: 0.88\n"
          ]
        }
      ]
    }
  ]
}