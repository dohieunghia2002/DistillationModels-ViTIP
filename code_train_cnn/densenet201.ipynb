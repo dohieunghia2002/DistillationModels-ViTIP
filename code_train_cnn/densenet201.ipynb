{
  "nbformat": 4,
  "nbformat_minor": 0,
  "metadata": {
    "colab": {
      "provenance": [],
      "gpuType": "T4"
    },
    "kernelspec": {
      "name": "python3",
      "display_name": "Python 3"
    },
    "language_info": {
      "name": "python"
    },
    "accelerator": "GPU"
  },
  "cells": [
    {
      "cell_type": "code",
      "source": [
        "from google.colab import drive\n",
        "drive.mount(\"/content/drive\")"
      ],
      "metadata": {
        "id": "shADrZ_kWJe0",
        "colab": {
          "base_uri": "https://localhost:8080/"
        },
        "outputId": "6bb7c07d-88ed-409d-e9a4-fbb8ca596988"
      },
      "execution_count": 1,
      "outputs": [
        {
          "output_type": "stream",
          "name": "stdout",
          "text": [
            "Mounted at /content/drive\n"
          ]
        }
      ]
    },
    {
      "cell_type": "code",
      "execution_count": 2,
      "metadata": {
        "id": "k3GbZIAzUqPh"
      },
      "outputs": [],
      "source": [
        "import tensorflow as tf\n",
        "from tensorflow.keras.preprocessing.image import ImageDataGenerator\n",
        "from tensorflow.keras.applications import DenseNet201\n",
        "from tensorflow.keras.models import Model\n",
        "from tensorflow.keras.layers import Dense, GlobalAveragePooling2D\n",
        "from tensorflow.keras.optimizers import Adam\n",
        "from tensorflow.keras.callbacks import ModelCheckpoint, EarlyStopping"
      ]
    },
    {
      "cell_type": "code",
      "source": [
        "IMG_SIZE = (224, 224)\n",
        "BATCH_SIZE = 32\n",
        "EPOCHS = 80"
      ],
      "metadata": {
        "id": "FvFKwzZ_Uyz6"
      },
      "execution_count": 3,
      "outputs": []
    },
    {
      "cell_type": "code",
      "source": [
        "train_dir = '/content/drive/MyDrive/VIPERC/dataset/train'\n",
        "test_dir = '/content/drive/MyDrive/VIPERC/dataset/test'\n",
        "\n",
        "train_datagen = ImageDataGenerator(rescale=1./255)\n",
        "test_datagen = ImageDataGenerator(rescale=1./255)\n",
        "\n",
        "train_generator = train_datagen.flow_from_directory(\n",
        "    train_dir,\n",
        "    target_size=IMG_SIZE,\n",
        "    batch_size=BATCH_SIZE,\n",
        "    class_mode='categorical'\n",
        ")\n",
        "\n",
        "test_generator = test_datagen.flow_from_directory(\n",
        "    test_dir,\n",
        "    target_size=IMG_SIZE,\n",
        "    batch_size=BATCH_SIZE,\n",
        "    class_mode='categorical',\n",
        "    shuffle=False\n",
        ")"
      ],
      "metadata": {
        "id": "g7DqWMXJU4MM",
        "colab": {
          "base_uri": "https://localhost:8080/"
        },
        "outputId": "4101e042-643a-4312-d30b-2d8fd5db0a12"
      },
      "execution_count": 4,
      "outputs": [
        {
          "output_type": "stream",
          "name": "stdout",
          "text": [
            "Found 5025 images belonging to 13 classes.\n",
            "Found 1256 images belonging to 13 classes.\n"
          ]
        }
      ]
    },
    {
      "cell_type": "code",
      "source": [
        "base_model = DenseNet201(weights='imagenet', include_top=False, input_shape=(IMG_SIZE[0], IMG_SIZE[1], 3))\n",
        "\n",
        "for layer in base_model.layers:\n",
        "    layer.trainable = False"
      ],
      "metadata": {
        "id": "C8-LD-FWU8ST",
        "colab": {
          "base_uri": "https://localhost:8080/"
        },
        "outputId": "7949b9ce-af44-425f-82e6-72093c6cae81"
      },
      "execution_count": 5,
      "outputs": [
        {
          "output_type": "stream",
          "name": "stdout",
          "text": [
            "Downloading data from https://storage.googleapis.com/tensorflow/keras-applications/densenet/densenet201_weights_tf_dim_ordering_tf_kernels_notop.h5\n",
            "74836368/74836368 [==============================] - 0s 0us/step\n"
          ]
        }
      ]
    },
    {
      "cell_type": "code",
      "source": [
        "x = base_model.output\n",
        "x = GlobalAveragePooling2D()(x)\n",
        "x = Dense(1024, activation='relu')(x)\n",
        "predictions = Dense(train_generator.num_classes, activation='softmax')(x)\n",
        "\n",
        "model = Model(inputs=base_model.input, outputs=predictions)"
      ],
      "metadata": {
        "id": "dToSbtzJU_w-"
      },
      "execution_count": 6,
      "outputs": []
    },
    {
      "cell_type": "code",
      "source": [
        "model.compile(optimizer=Adam(), loss='categorical_crossentropy', metrics=['accuracy'])"
      ],
      "metadata": {
        "id": "_AS9a9h-VFTU"
      },
      "execution_count": 7,
      "outputs": []
    },
    {
      "cell_type": "code",
      "source": [
        "checkpoint = ModelCheckpoint('best_model.keras', monitor='val_loss', save_best_only=True, mode='min')\n",
        "early_stopping = EarlyStopping(monitor='val_loss', patience=5, mode='min')"
      ],
      "metadata": {
        "id": "xQCN6HYCVLlx"
      },
      "execution_count": 8,
      "outputs": []
    },
    {
      "cell_type": "code",
      "source": [
        "model.fit(train_generator, epochs=EPOCHS, validation_data=test_generator, callbacks=[checkpoint, early_stopping])"
      ],
      "metadata": {
        "id": "5X7pIPN1VYCl",
        "colab": {
          "base_uri": "https://localhost:8080/"
        },
        "outputId": "c04a1769-77b7-43ab-9f8f-28e3897b5ce4"
      },
      "execution_count": 9,
      "outputs": [
        {
          "output_type": "stream",
          "name": "stdout",
          "text": [
            "Epoch 1/80\n",
            "158/158 [==============================] - 1718s 11s/step - loss: 0.2360 - accuracy: 0.9325 - val_loss: 0.0491 - val_accuracy: 0.9889\n",
            "Epoch 2/80\n",
            "158/158 [==============================] - 35s 220ms/step - loss: 0.0323 - accuracy: 0.9916 - val_loss: 0.1705 - val_accuracy: 0.9475\n",
            "Epoch 3/80\n",
            "158/158 [==============================] - 30s 191ms/step - loss: 0.0214 - accuracy: 0.9946 - val_loss: 0.0984 - val_accuracy: 0.9682\n",
            "Epoch 4/80\n",
            "158/158 [==============================] - 30s 191ms/step - loss: 0.0240 - accuracy: 0.9926 - val_loss: 0.1166 - val_accuracy: 0.9642\n",
            "Epoch 5/80\n",
            "158/158 [==============================] - 37s 233ms/step - loss: 0.0238 - accuracy: 0.9916 - val_loss: 0.0474 - val_accuracy: 0.9896\n",
            "Epoch 6/80\n",
            "158/158 [==============================] - 34s 212ms/step - loss: 0.0146 - accuracy: 0.9966 - val_loss: 0.0432 - val_accuracy: 0.9889\n",
            "Epoch 7/80\n",
            "158/158 [==============================] - 33s 211ms/step - loss: 0.0068 - accuracy: 0.9980 - val_loss: 0.0351 - val_accuracy: 0.9912\n",
            "Epoch 8/80\n",
            "158/158 [==============================] - 34s 212ms/step - loss: 0.0112 - accuracy: 0.9966 - val_loss: 0.0321 - val_accuracy: 0.9936\n",
            "Epoch 9/80\n",
            "158/158 [==============================] - 31s 192ms/step - loss: 0.0087 - accuracy: 0.9972 - val_loss: 0.0342 - val_accuracy: 0.9936\n",
            "Epoch 10/80\n",
            "158/158 [==============================] - 31s 193ms/step - loss: 0.0075 - accuracy: 0.9970 - val_loss: 0.0422 - val_accuracy: 0.9920\n",
            "Epoch 11/80\n",
            "158/158 [==============================] - 30s 192ms/step - loss: 0.0054 - accuracy: 0.9982 - val_loss: 0.0368 - val_accuracy: 0.9920\n",
            "Epoch 12/80\n",
            "158/158 [==============================] - 35s 220ms/step - loss: 0.0132 - accuracy: 0.9954 - val_loss: 0.0464 - val_accuracy: 0.9896\n",
            "Epoch 13/80\n",
            "158/158 [==============================] - 31s 193ms/step - loss: 0.0691 - accuracy: 0.9793 - val_loss: 0.0637 - val_accuracy: 0.9833\n"
          ]
        },
        {
          "output_type": "execute_result",
          "data": {
            "text/plain": [
              "<keras.src.callbacks.History at 0x7804601e0f10>"
            ]
          },
          "metadata": {},
          "execution_count": 9
        }
      ]
    },
    {
      "cell_type": "code",
      "source": [
        "!mv /content/best_model.keras /content/drive/MyDrive/VIPERC/"
      ],
      "metadata": {
        "id": "ciel98T6Wm3W"
      },
      "execution_count": 11,
      "outputs": []
    },
    {
      "cell_type": "code",
      "source": [
        "from tensorflow.keras.models import load_model\n",
        "\n",
        "best_model = load_model('/content/drive/MyDrive/VIPERC/best_model.keras')"
      ],
      "metadata": {
        "id": "PnARkl93K11I"
      },
      "execution_count": 12,
      "outputs": []
    },
    {
      "cell_type": "code",
      "source": [
        "import numpy as np\n",
        "from sklearn.metrics import confusion_matrix, classification_report, accuracy_score, precision_score, recall_score, f1_score\n",
        "\n",
        "test_loss, test_accuracy = best_model.evaluate(test_generator)\n",
        "print(f'\\nTest Loss: {test_loss:.4f}')\n",
        "print(f'Test Accuracy: {test_accuracy * 100:.2f}%')\n",
        "\n",
        "class_labels = list(test_generator.class_indices.keys())\n",
        "predictions = best_model.predict(test_generator)\n",
        "predicted_classes = np.argmax(predictions, axis=1)\n",
        "\n",
        "# Lấy nhãn thực tế từ generator\n",
        "true_classes = test_generator.classes\n",
        "\n",
        "# Tính các chỉ số đánh giá\n",
        "accuracy = accuracy_score(true_classes, predicted_classes)\n",
        "precision = precision_score(true_classes, predicted_classes, average='weighted')\n",
        "recall = recall_score(true_classes, predicted_classes, average='weighted')\n",
        "f1 = f1_score(true_classes, predicted_classes, average='weighted')\n",
        "\n",
        "# In ra kết quả\n",
        "print('Accuracy:', accuracy * 100)\n",
        "print('Precision:', precision * 100)\n",
        "print('Recall:', recall * 100)\n",
        "print('F1 Score:', f1* 100)\n",
        "\n",
        "# In báo cáo chi tiết\n",
        "print('\\nClassification Report:')\n",
        "print(classification_report(true_classes, predicted_classes, target_names=class_labels, digits=4))\n",
        "\n",
        "# Tính accuracy cho từng nhãn\n",
        "conf_matrix = confusion_matrix(true_classes, predicted_classes)\n",
        "class_accuracies = conf_matrix.diagonal() / conf_matrix.sum(axis=1)\n",
        "\n",
        "print('\\nAccuracy for each class:')\n",
        "for class_name, class_accuracy in zip(class_labels, class_accuracies):\n",
        "    print(f'{class_name}: {class_accuracy:.2f}')"
      ],
      "metadata": {
        "colab": {
          "base_uri": "https://localhost:8080/"
        },
        "id": "6RC2db3Dvuso",
        "outputId": "d6b86ba5-3689-4485-e0d1-fc724cb16c5f"
      },
      "execution_count": 13,
      "outputs": [
        {
          "output_type": "stream",
          "name": "stdout",
          "text": [
            "40/40 [==============================] - 12s 148ms/step - loss: 0.0321 - accuracy: 0.9936\n",
            "\n",
            "Test Loss: 0.0321\n",
            "Test Accuracy: 99.36%\n",
            "40/40 [==============================] - 10s 164ms/step\n",
            "Accuracy: 99.36305732484077\n",
            "Precision: 99.36597104980432\n",
            "Recall: 99.36305732484077\n",
            "F1 Score: 99.36302088082623\n",
            "\n",
            "Classification Report:\n",
            "              precision    recall  f1-score   support\n",
            "\n",
            " cong_chieng     1.0000    1.0000    1.0000        60\n",
            "     dan_bau     0.9875    1.0000    0.9937        79\n",
            "      dan_co     0.9787    0.9787    0.9787        47\n",
            "      dan_da     1.0000    0.9837    0.9918       123\n",
            "     dan_day     1.0000    1.0000    1.0000        92\n",
            "  dan_nguyet     0.9840    0.9840    0.9840       125\n",
            "     dan_sen     0.9847    0.9847    0.9847       131\n",
            "  dan_t_rung     1.0000    0.9942    0.9971       171\n",
            "    dan_tinh     1.0000    1.0000    1.0000       124\n",
            "   dan_tranh     0.9880    1.0000    0.9939       164\n",
            "   dan_ty_ba     1.0000    1.0000    1.0000        48\n",
            "        khen     1.0000    1.0000    1.0000        50\n",
            "  trong_quan     1.0000    1.0000    1.0000        42\n",
            "\n",
            "    accuracy                         0.9936      1256\n",
            "   macro avg     0.9941    0.9943    0.9942      1256\n",
            "weighted avg     0.9937    0.9936    0.9936      1256\n",
            "\n",
            "\n",
            "Accuracy for each class:\n",
            "cong_chieng: 1.00\n",
            "dan_bau: 1.00\n",
            "dan_co: 0.98\n",
            "dan_da: 0.98\n",
            "dan_day: 1.00\n",
            "dan_nguyet: 0.98\n",
            "dan_sen: 0.98\n",
            "dan_t_rung: 0.99\n",
            "dan_tinh: 1.00\n",
            "dan_tranh: 1.00\n",
            "dan_ty_ba: 1.00\n",
            "khen: 1.00\n",
            "trong_quan: 1.00\n"
          ]
        }
      ]
    }
  ]
}