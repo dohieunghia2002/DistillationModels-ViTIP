{
  "nbformat": 4,
  "nbformat_minor": 0,
  "metadata": {
    "colab": {
      "provenance": [],
      "gpuType": "T4"
    },
    "kernelspec": {
      "name": "python3",
      "display_name": "Python 3"
    },
    "language_info": {
      "name": "python"
    },
    "accelerator": "GPU"
  },
  "cells": [
    {
      "cell_type": "code",
      "source": [
        "from google.colab import drive\n",
        "drive.mount(\"/content/drive\")"
      ],
      "metadata": {
        "id": "shADrZ_kWJe0",
        "colab": {
          "base_uri": "https://localhost:8080/"
        },
        "outputId": "a50d29ee-7e3a-4df6-ef64-e2e6554a7300"
      },
      "execution_count": 1,
      "outputs": [
        {
          "output_type": "stream",
          "name": "stdout",
          "text": [
            "Drive already mounted at /content/drive; to attempt to forcibly remount, call drive.mount(\"/content/drive\", force_remount=True).\n"
          ]
        }
      ]
    },
    {
      "cell_type": "code",
      "execution_count": 2,
      "metadata": {
        "id": "k3GbZIAzUqPh"
      },
      "outputs": [],
      "source": [
        "import tensorflow as tf\n",
        "from tensorflow.keras.preprocessing.image import ImageDataGenerator\n",
        "from tensorflow.keras.applications import NASNetMobile\n",
        "from tensorflow.keras.models import Model\n",
        "from tensorflow.keras.layers import Dense, GlobalAveragePooling2D\n",
        "from tensorflow.keras.optimizers import Adam\n",
        "from tensorflow.keras.callbacks import ModelCheckpoint, EarlyStopping"
      ]
    },
    {
      "cell_type": "code",
      "source": [
        "IMG_SIZE = (224, 224)\n",
        "BATCH_SIZE = 32\n",
        "EPOCHS = 80"
      ],
      "metadata": {
        "id": "FvFKwzZ_Uyz6"
      },
      "execution_count": 3,
      "outputs": []
    },
    {
      "cell_type": "code",
      "source": [
        "train_dir = '/content/drive/MyDrive/VIPERC/dataset/train'\n",
        "test_dir = '/content/drive/MyDrive/VIPERC/dataset/test'\n",
        "\n",
        "train_datagen = ImageDataGenerator(rescale=1./255)\n",
        "test_datagen = ImageDataGenerator(rescale=1./255)\n",
        "\n",
        "train_generator = train_datagen.flow_from_directory(\n",
        "    train_dir,\n",
        "    target_size=IMG_SIZE,\n",
        "    batch_size=BATCH_SIZE,\n",
        "    class_mode='categorical'\n",
        ")\n",
        "\n",
        "test_generator = test_datagen.flow_from_directory(\n",
        "    test_dir,\n",
        "    target_size=IMG_SIZE,\n",
        "    batch_size=BATCH_SIZE,\n",
        "    class_mode='categorical',\n",
        "    shuffle=False\n",
        ")"
      ],
      "metadata": {
        "id": "g7DqWMXJU4MM",
        "colab": {
          "base_uri": "https://localhost:8080/"
        },
        "outputId": "424d8a2a-d412-45d4-c519-cb2de8f11ac5"
      },
      "execution_count": 4,
      "outputs": [
        {
          "output_type": "stream",
          "name": "stdout",
          "text": [
            "Found 5025 images belonging to 13 classes.\n",
            "Found 1256 images belonging to 13 classes.\n"
          ]
        }
      ]
    },
    {
      "cell_type": "code",
      "source": [
        "base_model = NASNetMobile(weights='imagenet', include_top=False, input_shape=(IMG_SIZE[0], IMG_SIZE[1], 3))\n",
        "\n",
        "for layer in base_model.layers:\n",
        "    layer.trainable = False"
      ],
      "metadata": {
        "id": "C8-LD-FWU8ST",
        "colab": {
          "base_uri": "https://localhost:8080/"
        },
        "outputId": "44041500-c43d-4603-fab0-671ad9773178"
      },
      "execution_count": 5,
      "outputs": [
        {
          "output_type": "stream",
          "name": "stdout",
          "text": [
            "Downloading data from https://storage.googleapis.com/tensorflow/keras-applications/nasnet/NASNet-mobile-no-top.h5\n",
            "19993432/19993432 [==============================] - 0s 0us/step\n"
          ]
        }
      ]
    },
    {
      "cell_type": "code",
      "source": [
        "x = base_model.output\n",
        "x = GlobalAveragePooling2D()(x)\n",
        "x = Dense(1024, activation='relu')(x)\n",
        "predictions = Dense(train_generator.num_classes, activation='softmax')(x)\n",
        "\n",
        "model = Model(inputs=base_model.input, outputs=predictions)"
      ],
      "metadata": {
        "id": "dToSbtzJU_w-"
      },
      "execution_count": 6,
      "outputs": []
    },
    {
      "cell_type": "code",
      "source": [
        "model.compile(optimizer=Adam(), loss='categorical_crossentropy', metrics=['accuracy'])"
      ],
      "metadata": {
        "id": "_AS9a9h-VFTU"
      },
      "execution_count": 7,
      "outputs": []
    },
    {
      "cell_type": "code",
      "source": [
        "checkpoint = ModelCheckpoint('best_model.keras', monitor='val_loss', save_best_only=True, mode='min')\n",
        "early_stopping = EarlyStopping(monitor='val_loss', patience=5, mode='min')"
      ],
      "metadata": {
        "id": "xQCN6HYCVLlx"
      },
      "execution_count": 8,
      "outputs": []
    },
    {
      "cell_type": "code",
      "source": [
        "model.fit(train_generator, epochs=EPOCHS, validation_data=test_generator, callbacks=[checkpoint, early_stopping])"
      ],
      "metadata": {
        "id": "5X7pIPN1VYCl",
        "colab": {
          "base_uri": "https://localhost:8080/"
        },
        "outputId": "e080a2c8-0b5f-465e-cf30-b3eb50989647"
      },
      "execution_count": 9,
      "outputs": [
        {
          "output_type": "stream",
          "name": "stdout",
          "text": [
            "Epoch 1/80\n",
            "158/158 [==============================] - 50s 219ms/step - loss: 0.2988 - accuracy: 0.9037 - val_loss: 0.1432 - val_accuracy: 0.9506\n",
            "Epoch 2/80\n",
            "158/158 [==============================] - 32s 202ms/step - loss: 0.0607 - accuracy: 0.9823 - val_loss: 0.1176 - val_accuracy: 0.9610\n",
            "Epoch 3/80\n",
            "158/158 [==============================] - 29s 185ms/step - loss: 0.0256 - accuracy: 0.9930 - val_loss: 0.0811 - val_accuracy: 0.9737\n",
            "Epoch 4/80\n",
            "158/158 [==============================] - 29s 183ms/step - loss: 0.0134 - accuracy: 0.9972 - val_loss: 0.0773 - val_accuracy: 0.9777\n",
            "Epoch 5/80\n",
            "158/158 [==============================] - 29s 186ms/step - loss: 0.0197 - accuracy: 0.9944 - val_loss: 0.0757 - val_accuracy: 0.9769\n",
            "Epoch 6/80\n",
            "158/158 [==============================] - 29s 185ms/step - loss: 0.0129 - accuracy: 0.9974 - val_loss: 0.0742 - val_accuracy: 0.9817\n",
            "Epoch 7/80\n",
            "158/158 [==============================] - 31s 192ms/step - loss: 0.0056 - accuracy: 0.9980 - val_loss: 0.0661 - val_accuracy: 0.9809\n",
            "Epoch 8/80\n",
            "158/158 [==============================] - 27s 173ms/step - loss: 0.0045 - accuracy: 0.9982 - val_loss: 0.0733 - val_accuracy: 0.9801\n",
            "Epoch 9/80\n",
            "158/158 [==============================] - 27s 171ms/step - loss: 0.0080 - accuracy: 0.9974 - val_loss: 0.3076 - val_accuracy: 0.9323\n",
            "Epoch 10/80\n",
            "158/158 [==============================] - 27s 172ms/step - loss: 0.0310 - accuracy: 0.9912 - val_loss: 0.1548 - val_accuracy: 0.9666\n",
            "Epoch 11/80\n",
            "158/158 [==============================] - 33s 206ms/step - loss: 0.0761 - accuracy: 0.9791 - val_loss: 0.1582 - val_accuracy: 0.9570\n",
            "Epoch 12/80\n",
            "158/158 [==============================] - 28s 174ms/step - loss: 0.0259 - accuracy: 0.9906 - val_loss: 0.1173 - val_accuracy: 0.9785\n"
          ]
        },
        {
          "output_type": "execute_result",
          "data": {
            "text/plain": [
              "<keras.src.callbacks.History at 0x7cb9b03e6950>"
            ]
          },
          "metadata": {},
          "execution_count": 9
        }
      ]
    },
    {
      "cell_type": "code",
      "source": [
        "!mv /content/best_model.keras /content/drive/MyDrive/VIPERC/"
      ],
      "metadata": {
        "id": "ciel98T6Wm3W"
      },
      "execution_count": 10,
      "outputs": []
    },
    {
      "cell_type": "code",
      "source": [
        "from tensorflow.keras.models import load_model\n",
        "\n",
        "best_model = load_model('/content/drive/MyDrive/VIPERC/best_model.keras')"
      ],
      "metadata": {
        "id": "PnARkl93K11I"
      },
      "execution_count": 11,
      "outputs": []
    },
    {
      "cell_type": "code",
      "source": [
        "import numpy as np\n",
        "from sklearn.metrics import confusion_matrix, classification_report, accuracy_score, precision_score, recall_score, f1_score\n",
        "\n",
        "test_loss, test_accuracy = best_model.evaluate(test_generator)\n",
        "print(f'\\nTest Loss: {test_loss:.4f}')\n",
        "print(f'Test Accuracy: {test_accuracy * 100:.2f}%')\n",
        "\n",
        "class_labels = list(test_generator.class_indices.keys())\n",
        "predictions = best_model.predict(test_generator)\n",
        "predicted_classes = np.argmax(predictions, axis=1)\n",
        "\n",
        "# Lấy nhãn thực tế từ generator\n",
        "true_classes = test_generator.classes\n",
        "\n",
        "# Tính các chỉ số đánh giá\n",
        "accuracy = accuracy_score(true_classes, predicted_classes)\n",
        "precision = precision_score(true_classes, predicted_classes, average='weighted')\n",
        "recall = recall_score(true_classes, predicted_classes, average='weighted')\n",
        "f1 = f1_score(true_classes, predicted_classes, average='weighted')\n",
        "\n",
        "# In ra kết quả\n",
        "print('Accuracy:', accuracy * 100)\n",
        "print('Precision:', precision * 100)\n",
        "print('Recall:', recall * 100)\n",
        "print('F1 Score:', f1* 100)\n",
        "\n",
        "# In báo cáo chi tiết\n",
        "print('\\nClassification Report:')\n",
        "print(classification_report(true_classes, predicted_classes, target_names=class_labels, digits=4))\n",
        "\n",
        "# Tính accuracy cho từng nhãn\n",
        "conf_matrix = confusion_matrix(true_classes, predicted_classes)\n",
        "class_accuracies = conf_matrix.diagonal() / conf_matrix.sum(axis=1)\n",
        "\n",
        "print('\\nAccuracy for each class:')\n",
        "for class_name, class_accuracy in zip(class_labels, class_accuracies):\n",
        "    print(f'{class_name}: {class_accuracy:.2f}')"
      ],
      "metadata": {
        "colab": {
          "base_uri": "https://localhost:8080/"
        },
        "id": "6RC2db3Dvuso",
        "outputId": "536d2b8b-6b99-48f0-e180-bea8d5a4bf24"
      },
      "execution_count": 12,
      "outputs": [
        {
          "output_type": "stream",
          "name": "stdout",
          "text": [
            "40/40 [==============================] - 12s 134ms/step - loss: 0.0661 - accuracy: 0.9809\n",
            "\n",
            "Test Loss: 0.0661\n",
            "Test Accuracy: 98.09%\n",
            "40/40 [==============================] - 9s 121ms/step\n",
            "Accuracy: 98.08917197452229\n",
            "Precision: 98.10525352916035\n",
            "Recall: 98.08917197452229\n",
            "F1 Score: 98.09088114500113\n",
            "\n",
            "Classification Report:\n",
            "              precision    recall  f1-score   support\n",
            "\n",
            " cong_chieng     1.0000    1.0000    1.0000        60\n",
            "     dan_bau     0.9875    1.0000    0.9937        79\n",
            "      dan_co     1.0000    0.9574    0.9783        47\n",
            "      dan_da     0.9836    0.9756    0.9796       123\n",
            "     dan_day     0.9891    0.9891    0.9891        92\n",
            "  dan_nguyet     0.9453    0.9680    0.9565       125\n",
            "     dan_sen     0.9549    0.9695    0.9621       131\n",
            "  dan_t_rung     1.0000    0.9942    0.9971       171\n",
            "    dan_tinh     0.9919    0.9919    0.9919       124\n",
            "   dan_tranh     0.9755    0.9695    0.9725       164\n",
            "   dan_ty_ba     0.9783    0.9375    0.9574        48\n",
            "        khen     0.9804    1.0000    0.9901        50\n",
            "  trong_quan     1.0000    1.0000    1.0000        42\n",
            "\n",
            "    accuracy                         0.9809      1256\n",
            "   macro avg     0.9836    0.9810    0.9822      1256\n",
            "weighted avg     0.9811    0.9809    0.9809      1256\n",
            "\n",
            "\n",
            "Accuracy for each class:\n",
            "cong_chieng: 1.00\n",
            "dan_bau: 1.00\n",
            "dan_co: 0.96\n",
            "dan_da: 0.98\n",
            "dan_day: 0.99\n",
            "dan_nguyet: 0.97\n",
            "dan_sen: 0.97\n",
            "dan_t_rung: 0.99\n",
            "dan_tinh: 0.99\n",
            "dan_tranh: 0.97\n",
            "dan_ty_ba: 0.94\n",
            "khen: 1.00\n",
            "trong_quan: 1.00\n"
          ]
        }
      ]
    }
  ]
}