{
  "nbformat": 4,
  "nbformat_minor": 0,
  "metadata": {
    "colab": {
      "provenance": [],
      "gpuType": "T4"
    },
    "kernelspec": {
      "name": "python3",
      "display_name": "Python 3"
    },
    "language_info": {
      "name": "python"
    },
    "accelerator": "GPU"
  },
  "cells": [
    {
      "cell_type": "code",
      "source": [
        "from google.colab import drive\n",
        "drive.mount(\"/content/drive\")"
      ],
      "metadata": {
        "id": "shADrZ_kWJe0",
        "colab": {
          "base_uri": "https://localhost:8080/"
        },
        "outputId": "9ee937f1-c8d7-475d-a79c-0c30a0dfe9f7"
      },
      "execution_count": 5,
      "outputs": [
        {
          "output_type": "stream",
          "name": "stdout",
          "text": [
            "Drive already mounted at /content/drive; to attempt to forcibly remount, call drive.mount(\"/content/drive\", force_remount=True).\n"
          ]
        }
      ]
    },
    {
      "cell_type": "code",
      "execution_count": 3,
      "metadata": {
        "id": "k3GbZIAzUqPh"
      },
      "outputs": [],
      "source": [
        "import tensorflow as tf\n",
        "from tensorflow.keras.preprocessing.image import ImageDataGenerator\n",
        "from tensorflow.keras.applications import ResNet50\n",
        "from tensorflow.keras.models import Model\n",
        "from tensorflow.keras.layers import Dense, GlobalAveragePooling2D\n",
        "from tensorflow.keras.optimizers import Adam\n",
        "from tensorflow.keras.callbacks import ModelCheckpoint, EarlyStopping"
      ]
    },
    {
      "cell_type": "code",
      "source": [
        "IMG_SIZE = (224, 224)\n",
        "BATCH_SIZE = 32\n",
        "EPOCHS = 80"
      ],
      "metadata": {
        "id": "FvFKwzZ_Uyz6"
      },
      "execution_count": 4,
      "outputs": []
    },
    {
      "cell_type": "code",
      "source": [
        "train_dir = '/content/drive/MyDrive/VIPERC/dataset/train'\n",
        "test_dir = '/content/drive/MyDrive/VIPERC/dataset/test'\n",
        "\n",
        "train_datagen = ImageDataGenerator(rescale=1./255)\n",
        "test_datagen = ImageDataGenerator(rescale=1./255)\n",
        "\n",
        "train_generator = train_datagen.flow_from_directory(\n",
        "    train_dir,\n",
        "    target_size=IMG_SIZE,\n",
        "    batch_size=BATCH_SIZE,\n",
        "    class_mode='categorical'\n",
        ")\n",
        "\n",
        "test_generator = test_datagen.flow_from_directory(\n",
        "    test_dir,\n",
        "    target_size=IMG_SIZE,\n",
        "    batch_size=BATCH_SIZE,\n",
        "    class_mode='categorical',\n",
        "    shuffle=False\n",
        ")"
      ],
      "metadata": {
        "id": "g7DqWMXJU4MM",
        "colab": {
          "base_uri": "https://localhost:8080/"
        },
        "outputId": "20353378-5aa5-4270-8c69-97f19b1b3eb7"
      },
      "execution_count": 6,
      "outputs": [
        {
          "output_type": "stream",
          "name": "stdout",
          "text": [
            "Found 5025 images belonging to 13 classes.\n",
            "Found 1256 images belonging to 13 classes.\n"
          ]
        }
      ]
    },
    {
      "cell_type": "code",
      "source": [
        "base_model = ResNet50(weights='imagenet', include_top=False, input_shape=(IMG_SIZE[0], IMG_SIZE[1], 3))\n",
        "\n",
        "for layer in base_model.layers:\n",
        "    layer.trainable = False"
      ],
      "metadata": {
        "id": "C8-LD-FWU8ST",
        "colab": {
          "base_uri": "https://localhost:8080/"
        },
        "outputId": "fc69fb26-6b88-46af-cbec-ece9d2e9b1e5"
      },
      "execution_count": 7,
      "outputs": [
        {
          "output_type": "stream",
          "name": "stdout",
          "text": [
            "Downloading data from https://storage.googleapis.com/tensorflow/keras-applications/resnet/resnet50_weights_tf_dim_ordering_tf_kernels_notop.h5\n",
            "94765736/94765736 [==============================] - 0s 0us/step\n"
          ]
        }
      ]
    },
    {
      "cell_type": "code",
      "source": [
        "x = base_model.output\n",
        "x = GlobalAveragePooling2D()(x)\n",
        "x = Dense(1024, activation='relu')(x)\n",
        "predictions = Dense(train_generator.num_classes, activation='softmax')(x)\n",
        "\n",
        "model = Model(inputs=base_model.input, outputs=predictions)"
      ],
      "metadata": {
        "id": "dToSbtzJU_w-"
      },
      "execution_count": 8,
      "outputs": []
    },
    {
      "cell_type": "code",
      "source": [
        "model.compile(optimizer=Adam(), loss='categorical_crossentropy', metrics=['accuracy'])"
      ],
      "metadata": {
        "id": "_AS9a9h-VFTU"
      },
      "execution_count": 9,
      "outputs": []
    },
    {
      "cell_type": "code",
      "source": [
        "checkpoint = ModelCheckpoint('best_model.keras', monitor='val_loss', save_best_only=True, mode='min')\n",
        "early_stopping = EarlyStopping(monitor='val_loss', patience=5, mode='min')"
      ],
      "metadata": {
        "id": "xQCN6HYCVLlx"
      },
      "execution_count": 10,
      "outputs": []
    },
    {
      "cell_type": "code",
      "source": [
        "model.fit(train_generator, epochs=EPOCHS, validation_data=test_generator, callbacks=[checkpoint, early_stopping])"
      ],
      "metadata": {
        "id": "5X7pIPN1VYCl",
        "colab": {
          "base_uri": "https://localhost:8080/"
        },
        "outputId": "da874d32-d095-4709-def9-ce73755a8e86"
      },
      "execution_count": 11,
      "outputs": [
        {
          "output_type": "stream",
          "name": "stdout",
          "text": [
            "Epoch 1/80\n",
            "158/158 [==============================] - 39s 203ms/step - loss: 2.2625 - accuracy: 0.2537 - val_loss: 2.0020 - val_accuracy: 0.3296\n",
            "Epoch 2/80\n",
            "158/158 [==============================] - 28s 179ms/step - loss: 1.8266 - accuracy: 0.3910 - val_loss: 1.7494 - val_accuracy: 0.4371\n",
            "Epoch 3/80\n",
            "158/158 [==============================] - 29s 182ms/step - loss: 1.6173 - accuracy: 0.4627 - val_loss: 1.5439 - val_accuracy: 0.5279\n",
            "Epoch 4/80\n",
            "158/158 [==============================] - 29s 182ms/step - loss: 1.4238 - accuracy: 0.5319 - val_loss: 1.3923 - val_accuracy: 0.5502\n",
            "Epoch 5/80\n",
            "158/158 [==============================] - 28s 174ms/step - loss: 1.3231 - accuracy: 0.5705 - val_loss: 1.4231 - val_accuracy: 0.5279\n",
            "Epoch 6/80\n",
            "158/158 [==============================] - 29s 184ms/step - loss: 1.2342 - accuracy: 0.6090 - val_loss: 1.2138 - val_accuracy: 0.6131\n",
            "Epoch 7/80\n",
            "158/158 [==============================] - 29s 185ms/step - loss: 1.1774 - accuracy: 0.6304 - val_loss: 1.1584 - val_accuracy: 0.6170\n",
            "Epoch 8/80\n",
            "158/158 [==============================] - 34s 209ms/step - loss: 1.0796 - accuracy: 0.6547 - val_loss: 1.0187 - val_accuracy: 0.6696\n",
            "Epoch 9/80\n",
            "158/158 [==============================] - 28s 176ms/step - loss: 1.0482 - accuracy: 0.6726 - val_loss: 1.0050 - val_accuracy: 0.6831\n",
            "Epoch 10/80\n",
            "158/158 [==============================] - 29s 181ms/step - loss: 1.0401 - accuracy: 0.6704 - val_loss: 1.0361 - val_accuracy: 0.6712\n",
            "Epoch 11/80\n",
            "158/158 [==============================] - 32s 204ms/step - loss: 0.9660 - accuracy: 0.7023 - val_loss: 1.0104 - val_accuracy: 0.7166\n",
            "Epoch 12/80\n",
            "158/158 [==============================] - 28s 178ms/step - loss: 0.9576 - accuracy: 0.7065 - val_loss: 0.8701 - val_accuracy: 0.7580\n",
            "Epoch 13/80\n",
            "158/158 [==============================] - 28s 178ms/step - loss: 0.8608 - accuracy: 0.7333 - val_loss: 0.8241 - val_accuracy: 0.7596\n",
            "Epoch 14/80\n",
            "158/158 [==============================] - 32s 199ms/step - loss: 0.8088 - accuracy: 0.7544 - val_loss: 0.7927 - val_accuracy: 0.7452\n",
            "Epoch 15/80\n",
            "158/158 [==============================] - 29s 182ms/step - loss: 0.7918 - accuracy: 0.7493 - val_loss: 0.7600 - val_accuracy: 0.7818\n",
            "Epoch 16/80\n",
            "158/158 [==============================] - 30s 187ms/step - loss: 0.7202 - accuracy: 0.7777 - val_loss: 0.7204 - val_accuracy: 0.7978\n",
            "Epoch 17/80\n",
            "158/158 [==============================] - 28s 175ms/step - loss: 0.7517 - accuracy: 0.7668 - val_loss: 0.7542 - val_accuracy: 0.7858\n",
            "Epoch 18/80\n",
            "158/158 [==============================] - 28s 175ms/step - loss: 0.7642 - accuracy: 0.7620 - val_loss: 0.7279 - val_accuracy: 0.7811\n",
            "Epoch 19/80\n",
            "158/158 [==============================] - 27s 173ms/step - loss: 0.7500 - accuracy: 0.7807 - val_loss: 0.7406 - val_accuracy: 0.7779\n",
            "Epoch 20/80\n",
            "158/158 [==============================] - 28s 179ms/step - loss: 0.7028 - accuracy: 0.7891 - val_loss: 0.8085 - val_accuracy: 0.7723\n",
            "Epoch 21/80\n",
            "158/158 [==============================] - 28s 176ms/step - loss: 0.6719 - accuracy: 0.7974 - val_loss: 0.6870 - val_accuracy: 0.7842\n",
            "Epoch 22/80\n",
            "158/158 [==============================] - 33s 209ms/step - loss: 0.6071 - accuracy: 0.8127 - val_loss: 0.6201 - val_accuracy: 0.8113\n",
            "Epoch 23/80\n",
            "158/158 [==============================] - 28s 174ms/step - loss: 0.6339 - accuracy: 0.8002 - val_loss: 0.6771 - val_accuracy: 0.7898\n",
            "Epoch 24/80\n",
            "158/158 [==============================] - 29s 181ms/step - loss: 0.6099 - accuracy: 0.8127 - val_loss: 0.5949 - val_accuracy: 0.8240\n",
            "Epoch 25/80\n",
            "158/158 [==============================] - 29s 182ms/step - loss: 0.5981 - accuracy: 0.8139 - val_loss: 0.5538 - val_accuracy: 0.8463\n",
            "Epoch 26/80\n",
            "158/158 [==============================] - 28s 174ms/step - loss: 0.5466 - accuracy: 0.8336 - val_loss: 0.6283 - val_accuracy: 0.8002\n",
            "Epoch 27/80\n",
            "158/158 [==============================] - 27s 172ms/step - loss: 0.5403 - accuracy: 0.8354 - val_loss: 0.5708 - val_accuracy: 0.8193\n",
            "Epoch 28/80\n",
            "158/158 [==============================] - 28s 176ms/step - loss: 0.5614 - accuracy: 0.8293 - val_loss: 0.6225 - val_accuracy: 0.8209\n",
            "Epoch 29/80\n",
            "158/158 [==============================] - 27s 172ms/step - loss: 0.5114 - accuracy: 0.8376 - val_loss: 0.5684 - val_accuracy: 0.8400\n",
            "Epoch 30/80\n",
            "158/158 [==============================] - 29s 184ms/step - loss: 0.5129 - accuracy: 0.8442 - val_loss: 0.5289 - val_accuracy: 0.8511\n",
            "Epoch 31/80\n",
            "158/158 [==============================] - 32s 204ms/step - loss: 0.4993 - accuracy: 0.8494 - val_loss: 0.6187 - val_accuracy: 0.8018\n",
            "Epoch 32/80\n",
            "158/158 [==============================] - 28s 175ms/step - loss: 0.5006 - accuracy: 0.8410 - val_loss: 0.5699 - val_accuracy: 0.8280\n",
            "Epoch 33/80\n",
            "158/158 [==============================] - 27s 171ms/step - loss: 0.6230 - accuracy: 0.8207 - val_loss: 0.5500 - val_accuracy: 0.8487\n",
            "Epoch 34/80\n",
            "158/158 [==============================] - 27s 170ms/step - loss: 0.5275 - accuracy: 0.8398 - val_loss: 0.5717 - val_accuracy: 0.8193\n",
            "Epoch 35/80\n",
            "158/158 [==============================] - 27s 170ms/step - loss: 0.5440 - accuracy: 0.8348 - val_loss: 0.6732 - val_accuracy: 0.7970\n"
          ]
        },
        {
          "output_type": "execute_result",
          "data": {
            "text/plain": [
              "<keras.src.callbacks.History at 0x78914bae2080>"
            ]
          },
          "metadata": {},
          "execution_count": 11
        }
      ]
    },
    {
      "cell_type": "code",
      "source": [
        "!mv /content/best_model.keras /content/drive/MyDrive/VIPERC/"
      ],
      "metadata": {
        "id": "ciel98T6Wm3W"
      },
      "execution_count": 12,
      "outputs": []
    },
    {
      "cell_type": "code",
      "source": [
        "from tensorflow.keras.models import load_model\n",
        "\n",
        "best_model = load_model('/content/drive/MyDrive/VIPERC/best_model.keras')"
      ],
      "metadata": {
        "id": "PnARkl93K11I"
      },
      "execution_count": 13,
      "outputs": []
    },
    {
      "cell_type": "code",
      "source": [
        "import numpy as np\n",
        "from sklearn.metrics import confusion_matrix, classification_report, accuracy_score, precision_score, recall_score, f1_score\n",
        "\n",
        "test_loss, test_accuracy = best_model.evaluate(test_generator)\n",
        "print(f'\\nTest Loss: {test_loss:.4f}')\n",
        "print(f'Test Accuracy: {test_accuracy * 100:.2f}%')\n",
        "\n",
        "class_labels = list(test_generator.class_indices.keys())\n",
        "predictions = best_model.predict(test_generator)\n",
        "predicted_classes = np.argmax(predictions, axis=1)\n",
        "\n",
        "# Lấy nhãn thực tế từ generator\n",
        "true_classes = test_generator.classes\n",
        "\n",
        "# Tính các chỉ số đánh giá\n",
        "accuracy = accuracy_score(true_classes, predicted_classes)\n",
        "precision = precision_score(true_classes, predicted_classes, average='weighted')\n",
        "recall = recall_score(true_classes, predicted_classes, average='weighted')\n",
        "f1 = f1_score(true_classes, predicted_classes, average='weighted')\n",
        "\n",
        "# In ra kết quả\n",
        "print('Accuracy:', accuracy * 100)\n",
        "print('Precision:', precision * 100)\n",
        "print('Recall:', recall * 100)\n",
        "print('F1 Score:', f1* 100)\n",
        "\n",
        "# In báo cáo chi tiết\n",
        "print('\\nClassification Report:')\n",
        "print(classification_report(true_classes, predicted_classes, target_names=class_labels, digits=4))\n",
        "\n",
        "# Tính accuracy cho từng nhãn\n",
        "conf_matrix = confusion_matrix(true_classes, predicted_classes)\n",
        "class_accuracies = conf_matrix.diagonal() / conf_matrix.sum(axis=1)\n",
        "\n",
        "print('\\nAccuracy for each class:')\n",
        "for class_name, class_accuracy in zip(class_labels, class_accuracies):\n",
        "    print(f'{class_name}: {class_accuracy:.2f}')"
      ],
      "metadata": {
        "colab": {
          "base_uri": "https://localhost:8080/"
        },
        "id": "6RC2db3Dvuso",
        "outputId": "324b754a-7223-4862-fb40-bbaa4bda23cc"
      },
      "execution_count": 14,
      "outputs": [
        {
          "output_type": "stream",
          "name": "stdout",
          "text": [
            "40/40 [==============================] - 8s 149ms/step - loss: 0.5289 - accuracy: 0.8511\n",
            "\n",
            "Test Loss: 0.5289\n",
            "Test Accuracy: 85.11%\n",
            "40/40 [==============================] - 6s 123ms/step\n",
            "Accuracy: 85.11146496815286\n",
            "Precision: 86.6121120752765\n",
            "Recall: 85.11146496815286\n",
            "F1 Score: 84.32842798364636\n",
            "\n",
            "Classification Report:\n",
            "              precision    recall  f1-score   support\n",
            "\n",
            " cong_chieng     0.8788    0.9667    0.9206        60\n",
            "     dan_bau     0.9744    0.9620    0.9682        79\n",
            "      dan_co     1.0000    0.3404    0.5079        47\n",
            "      dan_da     0.9697    0.7805    0.8649       123\n",
            "     dan_day     0.8696    0.8696    0.8696        92\n",
            "  dan_nguyet     0.8148    0.8800    0.8462       125\n",
            "     dan_sen     0.9333    0.8550    0.8924       131\n",
            "  dan_t_rung     0.8737    0.9708    0.9197       171\n",
            "    dan_tinh     0.7933    0.9597    0.8686       124\n",
            "   dan_tranh     0.7169    0.9573    0.8198       164\n",
            "   dan_ty_ba     0.9231    0.5000    0.6486        48\n",
            "        khen     0.8621    0.5000    0.6329        50\n",
            "  trong_quan     0.8333    0.7143    0.7692        42\n",
            "\n",
            "    accuracy                         0.8511      1256\n",
            "   macro avg     0.8802    0.7889    0.8099      1256\n",
            "weighted avg     0.8661    0.8511    0.8433      1256\n",
            "\n",
            "\n",
            "Accuracy for each class:\n",
            "cong_chieng: 0.97\n",
            "dan_bau: 0.96\n",
            "dan_co: 0.34\n",
            "dan_da: 0.78\n",
            "dan_day: 0.87\n",
            "dan_nguyet: 0.88\n",
            "dan_sen: 0.85\n",
            "dan_t_rung: 0.97\n",
            "dan_tinh: 0.96\n",
            "dan_tranh: 0.96\n",
            "dan_ty_ba: 0.50\n",
            "khen: 0.50\n",
            "trong_quan: 0.71\n"
          ]
        }
      ]
    }
  ]
}